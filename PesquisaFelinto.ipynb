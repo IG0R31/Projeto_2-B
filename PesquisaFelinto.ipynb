{
  "nbformat": 4,
  "nbformat_minor": 0,
  "metadata": {
    "colab": {
      "provenance": [],
      "include_colab_link": true
    },
    "kernelspec": {
      "name": "python3",
      "display_name": "Python 3"
    },
    "language_info": {
      "name": "python"
    }
  },
  "cells": [
    {
      "cell_type": "markdown",
      "metadata": {
        "id": "view-in-github",
        "colab_type": "text"
      },
      "source": [
        "<a href=\"https://colab.research.google.com/github/IG0R31/Projeto_2-B/blob/main/PesquisaFelinto.ipynb\" target=\"_parent\"><img src=\"https://colab.research.google.com/assets/colab-badge.svg\" alt=\"Open In Colab\"/></a>"
      ]
    },
    {
      "cell_type": "markdown",
      "source": [
        "\n"
      ],
      "metadata": {
        "id": "skJX7MPSPGRu"
      }
    },
    {
      "cell_type": "code",
      "execution_count": null,
      "metadata": {
        "colab": {
          "base_uri": "https://localhost:8080/"
        },
        "id": "0VQSGFcfPAfW",
        "outputId": "f2766a2e-4480-4900-88f7-302147e55a62"
      },
      "outputs": [
        {
          "output_type": "stream",
          "name": "stdout",
          "text": [
            "Probabilidades do confronto entre Botafogo e Flamengo:\n",
            "Botafogo: 36.55%\n",
            "Flamengo: 38.72%\n",
            "Empate: 23.59%\n",
            "Placar previsto: Botafogo 1 - 1 Flamengo\n"
          ]
        }
      ],
      "source": [
        "import pandas as pd\n",
        "from scipy.stats import poisson\n",
        "\n",
        "df = pd.read_csv(\"Times.csv\")\n",
        "\n",
        "df[\"Gols_pro_medio\"] = df[\"Gols_pro\"] / df[\"Jogos\"]\n",
        "df[\"Gols_con_medio\"] = df[\"Gols_con\"] / df[\"Jogos\"]\n",
        "\n",
        "def poisson_prob(lam, k):\n",
        "    # Retorna a probabilidade de marcar exatamente k gols dado lambda (média de gols por jogo)\n",
        "    return poisson.pmf(k, lam)\n",
        "\n",
        "def calcular_prob(time1, time2):\n",
        "    # Calcula a probabilidade de vitória entre dois times usando Poisson\n",
        "\n",
        "    lambda1 = df.loc[df[\"Time\"] == time1, \"Gols_pro_medio\"].values[0]\n",
        "    lambda2 = df.loc[df[\"Time\"] == time2, \"Gols_pro_medio\"].values[0]\n",
        "\n",
        "    vitoria1, vitoria2, empate = 0, 0, 0\n",
        "\n",
        "    for g1 in range(6):  # Considerando até 5 gols por jogo\n",
        "        for g2 in range(6):\n",
        "            prob = poisson_prob(lambda1, g1) * poisson_prob(lambda2, g2)\n",
        "            if g1 > g2:\n",
        "                vitoria1 += prob\n",
        "            elif g2 > g1:\n",
        "                vitoria2 += prob\n",
        "            else:\n",
        "                empate += prob\n",
        "\n",
        "    return {time1: vitoria1 * 100, time2: vitoria2 * 100, \"Empate\": empate * 100}\n",
        "\n",
        "def placar(time1, time2):\n",
        "    # Prediz o placar mais provável entre os times.\n",
        "\n",
        "    lambda1 = df.loc[df[\"Time\"] == time1, \"Gols_pro_medio\"].values[0]\n",
        "    lambda2 = df.loc[df[\"Time\"] == time2, \"Gols_pro_medio\"].values[0]\n",
        "\n",
        "    max_prob = 0\n",
        "    melhor_pontuacao = (0, 0)\n",
        "\n",
        "    for g1 in range(6):\n",
        "        for g2 in range(6):\n",
        "            prob = poisson_prob(lambda1, g1) * poisson_prob(lambda2, g2)\n",
        "            if prob > max_prob:\n",
        "                max_prob = prob\n",
        "                melhor_pontuacao = (g1, g2)\n",
        "    return melhor_pontuacao\n",
        "\n",
        "# Exemplo de cálculo entre dois times\n",
        "time_A, time_B = \"Botafogo\", \"Flamengo\"\n",
        "\n",
        "# Calcular probabilidades de vitória\n",
        "probabilidade = calcular_prob(time_A, time_B)\n",
        "print(f\"Probabilidades do confronto entre {time_A} e {time_B}:\")\n",
        "for chave, valor in probabilidade.items():\n",
        "    print(f\"{chave}: {valor:.2f}%\")\n",
        "\n",
        "# Prever o placar mais provável\n",
        "pontuacao = placar(time_A, time_B)\n",
        "print(f\"Placar previsto: {time_A} {pontuacao[0]} - {pontuacao[1]} {time_B}\")"
      ]
    },
    {
      "cell_type": "markdown",
      "source": [
        "O CÓDIGO ABAIXO É UM TESTE:\n",
        "No exemplo acima o flamengo possui uma chance probabilidade maior de vencer do que qualquer outra probabilidade, ou seja, seguindo a lógica e para fácil visualização, o placar deveria ser 2-1 ao invés de 1-1 (empate). Coloquei um multiplicador pro lambda (media de gols) para fazer o poisson. Caso o time esteja ganhando, terá um peso maior na sua quantidade de gols, e o contrário acontecerá se o time estiver perdendo. Teoricamente eu to enviesando o resultado, mas sla, só pra testar msm"
      ],
      "metadata": {
        "id": "ciOWpIEtBDmi"
      }
    },
    {
      "cell_type": "code",
      "source": [
        "import pandas as pd\n",
        "from scipy.stats import poisson\n",
        "\n",
        "df = pd.read_csv(\"Times.csv\")\n",
        "\n",
        "df[\"Gols_pro_medio\"] = df[\"Gols_pro\"] / df[\"Jogos\"]\n",
        "df[\"Gols_con_medio\"] = df[\"Gols_con\"] / df[\"Jogos\"]\n",
        "\n",
        "def poisson_prob(lam, k):\n",
        "    # Retorna a probabilidade de marcar exatamente k gols dado lambda (média de gols por jogo)\n",
        "    return poisson.pmf(k, lam)\n",
        "\n",
        "def calcular_prob(time1, time2):\n",
        "    # Calcula a probabilidade de vitória entre dois times usando Poisson\n",
        "\n",
        "    lambda1 = df.loc[df[\"Time\"] == time1, \"Gols_pro_medio\"].values[0]\n",
        "    lambda2 = df.loc[df[\"Time\"] == time2, \"Gols_pro_medio\"].values[0]\n",
        "\n",
        "    vitoria1, vitoria2, empate = 0, 0, 0\n",
        "\n",
        "    for g1 in range(6):  # Considerando até 5 gols por jogo\n",
        "        for g2 in range(6):\n",
        "            prob = poisson_prob(lambda1, g1) * poisson_prob(lambda2, g2)\n",
        "            if g1 > g2:\n",
        "                vitoria1 += prob\n",
        "            elif g2 > g1:\n",
        "                vitoria2 += prob\n",
        "            else:\n",
        "                empate += prob\n",
        "\n",
        "    return {time1: vitoria1 * 100, time2: vitoria2 * 100, \"Empate\": empate * 100, \"lambda1\": lambda1, \"lambda2\": lambda2}\n",
        "\n",
        "def placar(time1, time2):\n",
        "\n",
        "    probabilidades = calcular_prob(time1, time2)\n",
        "    lambda1 = probabilidades[\"lambda1\"]\n",
        "    lambda2 = probabilidades[\"lambda2\"]\n",
        "\n",
        "    if probabilidades[time1] > probabilidades[time2]:  # Time 1 favorito\n",
        "        lambda1 *= 1.5\n",
        "        lambda2 *= 0.5\n",
        "    elif probabilidades[time2] > probabilidades[time1]:  # Time 2 favorito\n",
        "        lambda1 *= 0.5\n",
        "        lambda2 *= 1.5\n",
        "\n",
        "    max_prob = 0\n",
        "    melhor_pontuacao = (0, 0)\n",
        "\n",
        "    for g1 in range(6):\n",
        "        for g2 in range(6):\n",
        "            prob = poisson_prob(lambda1, g1) * poisson_prob(lambda2, g2)\n",
        "            if prob > max_prob:\n",
        "                max_prob = prob\n",
        "                melhor_pontuacao = (g1, g2)\n",
        "\n",
        "    return melhor_pontuacao\n",
        "\n",
        "# Exemplo de cálculo entre dois times\n",
        "time_A, time_B = \"Botafogo\", \"Cuiabá\"\n",
        "\n",
        "# Calcular probabilidades de vitória\n",
        "probabilidade = calcular_prob(time_A, time_B)\n",
        "print(f\"Probabilidades do confronto entre {time_A} e {time_B}:\")\n",
        "for chave, valor in probabilidade.items():\n",
        "    if chave not in [\"lambda1\", \"lambda2\"]:\n",
        "        print(f\"{chave}: {valor:.2f}%\")\n",
        "\n",
        "# Prever o placar mais provável ajustado\n",
        "pontuacao = placar(time_A, time_B)\n",
        "print(f\"Placar previsto: {time_A} {pontuacao[0]} - {pontuacao[1]} {time_B}\")"
      ],
      "metadata": {
        "colab": {
          "base_uri": "https://localhost:8080/"
        },
        "id": "4_8lpBHCANc5",
        "outputId": "2182d132-2638-4945-f701-006d13711675"
      },
      "execution_count": null,
      "outputs": [
        {
          "output_type": "stream",
          "name": "stdout",
          "text": [
            "Probabilidades do confronto entre Botafogo e Cuiabá:\n",
            "Botafogo: 55.62%\n",
            "Cuiabá: 18.32%\n",
            "Empate: 25.52%\n",
            "Placar previsto: Botafogo 2 - 0 Cuiabá\n"
          ]
        }
      ]
    }
  ]
}